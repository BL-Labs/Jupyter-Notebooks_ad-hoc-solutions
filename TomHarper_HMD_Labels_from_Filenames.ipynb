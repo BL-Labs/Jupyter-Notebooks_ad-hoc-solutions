{
 "cells": [
  {
   "cell_type": "code",
   "execution_count": 48,
   "metadata": {},
   "outputs": [],
   "source": [
    "import pandas as pd\n",
    "import csv"
   ]
  },
  {
   "cell_type": "code",
   "execution_count": 49,
   "metadata": {
    "scrolled": true
   },
   "outputs": [],
   "source": [
    "fileIn = \"HMD_List_Of_Files.txt\"\n",
    "fileOut = open('HMD_Files_Labels.csv', 'w') # Current contents will be overwriten\n",
    "# fileOut = open('HMD_Files_Labels.csv', 'a') # It will append to current contents\n",
    "df = pd.read_csv(fileIn)"
   ]
  },
  {
   "cell_type": "code",
   "execution_count": 50,
   "metadata": {},
   "outputs": [
    {
     "data": {
      "text/plain": [
       "85"
      ]
     },
     "execution_count": 50,
     "metadata": {},
     "output_type": "execute_result"
    }
   ],
   "source": [
    "df.size"
   ]
  },
  {
   "cell_type": "code",
   "execution_count": 51,
   "metadata": {},
   "outputs": [
    {
     "data": {
      "text/html": [
       "<div>\n",
       "<style scoped>\n",
       "    .dataframe tbody tr th:only-of-type {\n",
       "        vertical-align: middle;\n",
       "    }\n",
       "\n",
       "    .dataframe tbody tr th {\n",
       "        vertical-align: top;\n",
       "    }\n",
       "\n",
       "    .dataframe thead th {\n",
       "        text-align: right;\n",
       "    }\n",
       "</style>\n",
       "<table border=\"1\" class=\"dataframe\">\n",
       "  <thead>\n",
       "    <tr style=\"text-align: right;\">\n",
       "      <th></th>\n",
       "      <th>Filename</th>\n",
       "    </tr>\n",
       "  </thead>\n",
       "  <tbody>\n",
       "    <tr>\n",
       "      <th>0</th>\n",
       "      <td>OS_Durham_25_001_33_10.tif</td>\n",
       "    </tr>\n",
       "    <tr>\n",
       "      <th>1</th>\n",
       "      <td>OS_Durham_25_001_33_11.tif</td>\n",
       "    </tr>\n",
       "    <tr>\n",
       "      <th>2</th>\n",
       "      <td>OS_Durham_25_001_33_13.tif</td>\n",
       "    </tr>\n",
       "  </tbody>\n",
       "</table>\n",
       "</div>"
      ],
      "text/plain": [
       "                      Filename\n",
       "0   OS_Durham_25_001_33_10.tif\n",
       "1  OS_Durham_25_001_33_11.tif \n",
       "2   OS_Durham_25_001_33_13.tif"
      ]
     },
     "execution_count": 51,
     "metadata": {},
     "output_type": "execute_result"
    }
   ],
   "source": [
    "df.head(3)"
   ]
  },
  {
   "cell_type": "code",
   "execution_count": 52,
   "metadata": {},
   "outputs": [
    {
     "data": {
      "text/plain": [
       "16"
      ]
     },
     "execution_count": 52,
     "metadata": {},
     "output_type": "execute_result"
    }
   ],
   "source": [
    "writer = csv.writer(fileOut)\n",
    "header = ['Filename', 'Label']\n",
    "writer.writerow(header)"
   ]
  },
  {
   "cell_type": "code",
   "execution_count": 53,
   "metadata": {},
   "outputs": [
    {
     "name": "stdout",
     "output_type": "stream",
     "text": [
      "['OS_Durham_25_001_33_10.tif', '10']\n",
      "['OS_Durham_25_001_33_11.tif', '11 ']\n",
      "['OS_Durham_25_001_33_13.tif', '13']\n",
      "['OS_Durham_25_001_33_14.tif', '14']\n",
      "['OS_Durham_25_001_33_15.tif', '15']\n",
      "['OS_Durham_25_001_33_16.tif', '16']\n",
      "['OS_Durham_25_001_33_5.tif', '5']\n",
      "['OS_Durham_25_001_33_6.tif', '6']\n",
      "['OS_Durham_25_001_33_7.tif', '7']\n",
      "['OS_Durham_25_001_33_9.tif', '9']\n",
      "['OS_Durham_25_001_40_12.tif', '12']\n",
      "['OS_Durham_25_001_40_16.tif', '16']\n",
      "['OS_Durham_25_001_40_4.tif', '4']\n",
      "['OS_Durham_25_001_40_7.tif', '7']\n",
      "['OS_Durham_25_001_40_8.tif', '8']\n",
      "['OS_Durham_25_001_41_1.tif', '1']\n",
      "['OS_Durham_25_001_41_10.tif', '10']\n",
      "['OS_Durham_25_001_41_11.tif', '11']\n",
      "['OS_Durham_25_001_41_13.tif', '13']\n",
      "['OS_Durham_25_001_41_14.tif', '14']\n",
      "['OS_Durham_25_001_41_2.tif', '2']\n",
      "['OS_Durham_25_001_41_3.tif', '3']\n",
      "['OS_Durham_25_001_41_4.tif', '4']\n",
      "['OS_Durham_25_001_41_5.tif', '5']\n",
      "['OS_Durham_25_001_41_6.tif', '6']\n",
      "['OS_Durham_25_001_41_7.tif', '7']\n",
      "['OS_Durham_25_001_41_9.tif', '9']\n",
      "['OS_KENT_25_001_BUCKLAND_09_1865.tif', '09_1865']\n",
      "['OS_KENT_25_001_BUCKLAND_68_10.tif', '68_10']\n",
      "['OS_KENT_25_001_BUCKLAND_68_13.tif', '68_13']\n",
      "['OS_KENT_25_001_BUCKLAND_68_5.tif', '68_5']\n",
      "['OS_KENT_25_001_BUCKLAND_68_6.tif', '68_6']\n",
      "['OS_KENT_25_001_BUCKLAND_68_9.tif', '68_9']\n",
      "['OS_KENT_25_001_CRAYFORD_11_1865.tif', '11_1865']\n",
      "['OS_KENT_25_001_CRAYFORD_3_10.tif', '3_10']\n",
      "['OS_KENT_25_001_CRAYFORD_3_13.tif', '3_13']\n",
      "['OS_KENT_25_001_CRAYFORD_3_14.tif', '3_14']\n",
      "['OS_KENT_25_001_CRAYFORD_8_4.tif', '8_4']\n",
      "['OS_KENT_25_001_CRAYFORD_9_1.tif', '9_1']\n",
      "['OS_KENT_25_001_CRAYFORD_9_2.tif', '9_2']\n",
      "['OS_KENT_25_001_EAST_WICKHAM_07_1865.tif', '07_1865']\n",
      "['OS_KENT_25_001_EAST_WICKHAM_2_11.tif', '2_11']\n",
      "['OS_KENT_25_001_EAST_WICKHAM_2_15.tif', '2_15']\n",
      "['OS_KENT_25_001_GUSTON_10_1863.tif', '10_1863']\n",
      "['OS_KENT_25_001_GUSTON_68_11.tif', '68_11']\n",
      "['OS_KENT_25_001_GUSTON_68_14.tif', '68_14']\n",
      "['OS_KENT_25_001_GUSTON_68_2.tif', '68_2']\n",
      "['OS_KENT_25_001_GUSTON_68_6.tif', '68_6']\n",
      "['OS_KENT_25_001_LUDDESDOWN_07_1865.tif', '07_1865']\n",
      "['OS_KENT_25_001_LUDDESDOWN_18_11.tif', '18_11']\n",
      "['OS_KENT_25_001_LUDDESDOWN_18_12.tif', '18_12']\n",
      "['OS_KENT_25_001_LUDDESDOWN_18_15.tif', '18_15']\n",
      "['OS_KENT_25_001_LUDDESDOWN_18_7.tif', '18_7']\n",
      "['OS_KENT_25_001_LUDDESDOWN_18_8.tif', '18_8']\n",
      "['OS_KENT_25_001_LUDDESDOWN_30_3.tif', '30_3']\n",
      "['OS_KENT_25_001_LUDDESDOWN_30_7.tif', '30_7']\n",
      "['OS_KENT_25_001_NORTHFLEET_09_1865.tif', '09_1865']\n",
      "['OS_KENT_25_001_NORTHFLEET_10_1.tif', '10_1']\n",
      "['OS_KENT_25_001_NORTHFLEET_10_10.tif', '10_10']\n",
      "['OS_KENT_25_001_NORTHFLEET_10_14.tif', '10_14']\n",
      "['OS_KENT_25_001_NORTHFLEET_10_15.tif', '10_15']\n",
      "['OS_KENT_25_001_NORTHFLEET_10_5.tif', '10_5']\n",
      "['OS_KENT_25_001_NORTHFLEET_10_6.tif', '10_6']\n",
      "['OS_KENT_25_001_NORTHFLEET_10_9.tif', '10_9']\n",
      "['OS_KENT_25_001_NORTHFLEET_18_2.tif', '18_2']\n",
      "['OS_KENT_25_001_NORTHFLEET_18_3.tif', '18_3']\n",
      "['OS_KENT_25_001_SHORNE_05_1864.tif', '05_1864']\n",
      "['OS_KENT_25_001_SHORNE_10_12.tif', '10_12']\n",
      "['OS_KENT_25_001_SHORNE_10_15.tif', '10_15']\n",
      "['OS_KENT_25_001_SHORNE_10_16.tif', '10_16']\n",
      "['OS_KENT_25_001_SHORNE_10_8.tif', '10_8']\n",
      "['OS_KENT_25_001_SHORNE_11_13.tif', '11_13']\n",
      "['OS_KENT_25_001_SHORNE_11_5.tif', '11_5']\n",
      "['OS_KENT_25_001_SHORNE_11_9.tif', '11_9']\n",
      "['OS_KENT_25_001_SHORNE_18_4.tif', '18_4']\n",
      "['OS_KENT_25_001_SHORNE_19_1.tif', '19_1']\n",
      "['OS_KENT_25_001_STOKE_11_1864.tif', '11_1864']\n",
      "['OS_KENT_25_001_STOKE_12_1.tif', '12_1']\n",
      "['OS_KENT_25_001_STOKE_12_10.tif', '12_10']\n",
      "['OS_KENT_25_001_STOKE_12_11.tif', '12_11']\n",
      "['OS_KENT_25_001_STOKE_12_2.tif', '12_2']\n",
      "['OS_KENT_25_001_STOKE_12_3.tif', '12_3']\n",
      "['OS_KENT_25_001_STOKE_12_5.tif', '12_5']\n",
      "['OS_KENT_25_001_STOKE_12_6.tif', '12_6']\n",
      "['OS_KENT_25_001_STOKE_12_7.tif', '12_7']\n"
     ]
    }
   ],
   "source": [
    "for file in df[\"Filename\"]:\n",
    "    NumberOfUnderScores = len(file.split('_'))\n",
    "    if (NumberOfUnderScores) == 6:\n",
    "        label=file.split('_')[5]\n",
    "        out = [file.strip(),label.replace('.tif', '')]\n",
    "        writer.writerow(out)\n",
    "        print(out)\n",
    "    else:\n",
    "        label=file.split('_')[NumberOfUnderScores-2]+\"_\"+file.split('_')[NumberOfUnderScores-1]\n",
    "        out = [file.strip(),label.replace('.tif', '')]\n",
    "        writer.writerow(out)\n",
    "        print(out)"
   ]
  },
  {
   "cell_type": "code",
   "execution_count": 54,
   "metadata": {},
   "outputs": [],
   "source": [
    "fileOut.close()"
   ]
  },
  {
   "cell_type": "code",
   "execution_count": null,
   "metadata": {},
   "outputs": [],
   "source": []
  }
 ],
 "metadata": {
  "kernelspec": {
   "display_name": "Python 3",
   "language": "python",
   "name": "python3"
  },
  "language_info": {
   "codemirror_mode": {
    "name": "ipython",
    "version": 3
   },
   "file_extension": ".py",
   "mimetype": "text/x-python",
   "name": "python",
   "nbconvert_exporter": "python",
   "pygments_lexer": "ipython3",
   "version": "3.7.3"
  }
 },
 "nbformat": 4,
 "nbformat_minor": 2
}
