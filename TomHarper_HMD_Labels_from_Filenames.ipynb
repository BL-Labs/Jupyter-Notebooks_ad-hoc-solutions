{
  "cells": [
    {
      "cell_type": "markdown",
      "metadata": {
        "id": "view-in-github",
        "colab_type": "text"
      },
      "source": [
        "<a href=\"https://colab.research.google.com/github/fmbento/Jupyter-Notebooks_ad-hoc-solutions/blob/main/TomHarper_HMD_Labels_from_Filenames.ipynb\" target=\"_parent\"><img src=\"https://colab.research.google.com/assets/colab-badge.svg\" alt=\"Open In Colab\"/></a>"
      ]
    },
    {
      "cell_type": "markdown",
      "source": [
        "# How To...\n",
        "1. **Upload the source file** to the same folder where the script runs: **HMD_List_Of_Files.txt**;\n",
        "\n",
        "2. **Run** the script;\n",
        "\n",
        "3. **Download** the **output file**: **HMD_Files_Labels.csv**"
      ],
      "metadata": {
        "id": "iqk0vEIQUuAt"
      }
    },
    {
      "cell_type": "code",
      "execution_count": 9,
      "metadata": {
        "id": "TbhTXHPcUF5n",
        "outputId": "dc116436-30cd-47b5-a644-c3e57ff409e9",
        "colab": {
          "base_uri": "https://localhost:8080/"
        }
      },
      "outputs": [
        {
          "output_type": "stream",
          "name": "stdout",
          "text": [
            "['OS_Durham_25_001_33_10.tif', '10']\n",
            "['OS_Durham_25_001_33_11.tif', '11 ']\n",
            "['OS_Durham_25_001_33_13.tif', '13']\n",
            "['OS_Durham_25_001_33_14.tif', '14']\n",
            "['OS_Durham_25_001_33_15.tif', '15']\n",
            "['OS_Durham_25_001_33_16.tif', '16']\n",
            "['OS_Durham_25_001_33_5.tif', '5']\n",
            "['OS_Durham_25_001_33_6.tif', '6']\n",
            "['OS_Durham_25_001_33_7.tif', '7']\n",
            "['OS_Durham_25_001_33_9.tif', '9']\n",
            "['OS_Durham_25_001_40_12.tif', '12']\n",
            "['OS_Durham_25_001_40_16.tif', '16']\n",
            "['OS_Durham_25_001_40_4.tif', '4']\n",
            "['OS_Durham_25_001_40_7.tif', '7']\n",
            "['OS_Durham_25_001_40_8.tif', '8']\n",
            "['OS_Durham_25_001_41_1.tif', '1']\n",
            "['OS_Durham_25_001_41_10.tif', '10']\n",
            "['OS_Durham_25_001_41_11.tif', '11']\n",
            "['OS_Durham_25_001_41_13.tif', '13']\n",
            "['OS_Durham_25_001_41_14.tif', '14']\n",
            "['OS_Durham_25_001_41_2.tif', '2']\n",
            "['OS_Durham_25_001_41_3.tif', '3']\n",
            "['OS_Durham_25_001_41_4.tif', '4']\n",
            "['OS_Durham_25_001_41_5.tif', '5']\n",
            "['OS_Durham_25_001_41_6.tif', '6']\n",
            "['OS_Durham_25_001_41_7.tif', '7']\n",
            "['OS_Durham_25_001_41_9.tif', '9']\n",
            "['OS_KENT_25_001_BUCKLAND_09_1865.tif', '09_1865']\n",
            "['OS_KENT_25_001_BUCKLAND_68_10.tif', '68_10']\n",
            "['OS_KENT_25_001_BUCKLAND_68_13.tif', '68_13']\n",
            "['OS_KENT_25_001_BUCKLAND_68_5.tif', '68_5']\n",
            "['OS_KENT_25_001_BUCKLAND_68_6.tif', '68_6']\n",
            "['OS_KENT_25_001_BUCKLAND_68_9.tif', '68_9']\n",
            "['OS_KENT_25_001_CRAYFORD_11_1865.tif', '11_1865']\n",
            "['OS_KENT_25_001_CRAYFORD_3_10.tif', '3_10']\n",
            "['OS_KENT_25_001_CRAYFORD_3_13.tif', '3_13']\n",
            "['OS_KENT_25_001_CRAYFORD_3_14.tif', '3_14']\n",
            "['OS_KENT_25_001_CRAYFORD_8_4.tif', '8_4']\n",
            "['OS_KENT_25_001_CRAYFORD_9_1.tif', '9_1']\n",
            "['OS_KENT_25_001_CRAYFORD_9_2.tif', '9_2']\n",
            "['OS_KENT_25_001_EAST_WICKHAM_07_1865.tif', '07_1865']\n",
            "['OS_KENT_25_001_EAST_WICKHAM_2_11.tif', '2_11']\n",
            "['OS_KENT_25_001_EAST_WICKHAM_2_15.tif', '2_15']\n",
            "['OS_KENT_25_001_GUSTON_10_1863.tif', '10_1863']\n",
            "['OS_KENT_25_001_GUSTON_68_11.tif', '68_11']\n",
            "['OS_KENT_25_001_GUSTON_68_14.tif', '68_14']\n",
            "['OS_KENT_25_001_GUSTON_68_2.tif', '68_2']\n",
            "['OS_KENT_25_001_GUSTON_68_6.tif', '68_6']\n",
            "['OS_KENT_25_001_LUDDESDOWN_07_1865.tif', '07_1865']\n",
            "['OS_KENT_25_001_LUDDESDOWN_18_11.tif', '18_11']\n",
            "['OS_KENT_25_001_LUDDESDOWN_18_12.tif', '18_12']\n",
            "['OS_KENT_25_001_LUDDESDOWN_18_15.tif', '18_15']\n",
            "['OS_KENT_25_001_LUDDESDOWN_18_7.tif', '18_7']\n",
            "['OS_KENT_25_001_LUDDESDOWN_18_8.tif', '18_8']\n",
            "['OS_KENT_25_001_LUDDESDOWN_30_3.tif', '30_3']\n",
            "['OS_KENT_25_001_LUDDESDOWN_30_7.tif', '30_7']\n",
            "['OS_KENT_25_001_NORTHFLEET_09_1865.tif', '09_1865']\n",
            "['OS_KENT_25_001_NORTHFLEET_10_1.tif', '10_1']\n",
            "['OS_KENT_25_001_NORTHFLEET_10_10.tif', '10_10']\n",
            "['OS_KENT_25_001_NORTHFLEET_10_14.tif', '10_14']\n",
            "['OS_KENT_25_001_NORTHFLEET_10_15.tif', '10_15']\n",
            "['OS_KENT_25_001_NORTHFLEET_10_5.tif', '10_5']\n",
            "['OS_KENT_25_001_NORTHFLEET_10_6.tif', '10_6']\n",
            "['OS_KENT_25_001_NORTHFLEET_10_9.tif', '10_9']\n",
            "['OS_KENT_25_001_NORTHFLEET_18_2.tif', '18_2']\n",
            "['OS_KENT_25_001_NORTHFLEET_18_3.tif', '18_3']\n",
            "['OS_KENT_25_001_SHORNE_05_1864.tif', '05_1864']\n",
            "['OS_KENT_25_001_SHORNE_10_12.tif', '10_12']\n",
            "['OS_KENT_25_001_SHORNE_10_15.tif', '10_15']\n",
            "['OS_KENT_25_001_SHORNE_10_16.tif', '10_16']\n",
            "['OS_KENT_25_001_SHORNE_10_8.tif', '10_8']\n",
            "['OS_KENT_25_001_SHORNE_11_13.tif', '11_13']\n",
            "['OS_KENT_25_001_SHORNE_11_5.tif', '11_5']\n",
            "['OS_KENT_25_001_SHORNE_11_9.tif', '11_9']\n",
            "['OS_KENT_25_001_SHORNE_18_4.tif', '18_4']\n",
            "['OS_KENT_25_001_SHORNE_19_1.tif', '19_1']\n",
            "['OS_KENT_25_001_STOKE_11_1864.tif', '11_1864']\n",
            "['OS_KENT_25_001_STOKE_12_1.tif', '12_1']\n",
            "['OS_KENT_25_001_STOKE_12_10.tif', '12_10']\n",
            "['OS_KENT_25_001_STOKE_12_11.tif', '12_11']\n",
            "['OS_KENT_25_001_STOKE_12_2.tif', '12_2']\n",
            "['OS_KENT_25_001_STOKE_12_3.tif', '12_3']\n",
            "['OS_KENT_25_001_STOKE_12_5.tif', '12_5']\n",
            "['OS_KENT_25_001_STOKE_12_6.tif', '12_6']\n",
            "['OS_KENT_25_001_STOKE_12_7.tif', '12_7']\n"
          ]
        }
      ],
      "source": [
        "import pandas as pd\n",
        "import csv\n",
        "\n",
        "fileIn = \"HMD_List_Of_Files.txt\"\n",
        "fileOut = open('HMD_Files_Labels.csv', 'w') # Current contents will be overwriten\n",
        "# fileOut = open('HMD_Files_Labels.csv', 'a') # It will append to current contents\n",
        "df = pd.read_csv(fileIn)\n",
        "\n",
        "writer = csv.writer(fileOut)\n",
        "header = ['Filename', 'Label']\n",
        "writer.writerow(header)\n",
        "\n",
        "for file in df[\"Filename\"]:\n",
        "    NumberOfUnderScores = len(file.split('_'))\n",
        "    if (NumberOfUnderScores) == 6:\n",
        "        label=file.split('_')[5]\n",
        "        out = [file.strip(),label.replace('.tif', '')]\n",
        "        writer.writerow(out)\n",
        "        print(out)\n",
        "    else:\n",
        "        label=file.split('_')[NumberOfUnderScores-2]+\"_\"+file.split('_')[NumberOfUnderScores-1]\n",
        "        out = [file.strip(),label.replace('.tif', '')]\n",
        "        writer.writerow(out)\n",
        "        print(out)\n",
        "fileOut.close()"
      ]
    },
    {
      "cell_type": "code",
      "execution_count": 2,
      "metadata": {
        "scrolled": true,
        "id": "iY0xOVD6UF5r"
      },
      "outputs": [],
      "source": [
        ""
      ]
    },
    {
      "cell_type": "code",
      "execution_count": 8,
      "metadata": {
        "id": "_cnV0cltUF5s",
        "outputId": "7f9f87b7-8af8-4a5e-80d2-86e6fcd48104",
        "colab": {
          "base_uri": "https://localhost:8080/"
        }
      },
      "outputs": [
        {
          "output_type": "execute_result",
          "data": {
            "text/plain": [
              "85"
            ]
          },
          "metadata": {},
          "execution_count": 8
        }
      ],
      "source": [
        "df.size"
      ]
    },
    {
      "cell_type": "code",
      "execution_count": 4,
      "metadata": {
        "id": "i8XwrXHiUF5t",
        "outputId": "4b2ba539-23ac-4bd5-e236-bfff386ae76a",
        "colab": {
          "base_uri": "https://localhost:8080/",
          "height": 143
        }
      },
      "outputs": [
        {
          "output_type": "execute_result",
          "data": {
            "text/html": [
              "\n",
              "  <div id=\"df-1d7d9953-c22f-4602-8766-7275454186a2\">\n",
              "    <div class=\"colab-df-container\">\n",
              "      <div>\n",
              "<style scoped>\n",
              "    .dataframe tbody tr th:only-of-type {\n",
              "        vertical-align: middle;\n",
              "    }\n",
              "\n",
              "    .dataframe tbody tr th {\n",
              "        vertical-align: top;\n",
              "    }\n",
              "\n",
              "    .dataframe thead th {\n",
              "        text-align: right;\n",
              "    }\n",
              "</style>\n",
              "<table border=\"1\" class=\"dataframe\">\n",
              "  <thead>\n",
              "    <tr style=\"text-align: right;\">\n",
              "      <th></th>\n",
              "      <th>Filename</th>\n",
              "    </tr>\n",
              "  </thead>\n",
              "  <tbody>\n",
              "    <tr>\n",
              "      <th>0</th>\n",
              "      <td>OS_Durham_25_001_33_10.tif</td>\n",
              "    </tr>\n",
              "    <tr>\n",
              "      <th>1</th>\n",
              "      <td>OS_Durham_25_001_33_11.tif</td>\n",
              "    </tr>\n",
              "    <tr>\n",
              "      <th>2</th>\n",
              "      <td>OS_Durham_25_001_33_13.tif</td>\n",
              "    </tr>\n",
              "  </tbody>\n",
              "</table>\n",
              "</div>\n",
              "      <button class=\"colab-df-convert\" onclick=\"convertToInteractive('df-1d7d9953-c22f-4602-8766-7275454186a2')\"\n",
              "              title=\"Convert this dataframe to an interactive table.\"\n",
              "              style=\"display:none;\">\n",
              "        \n",
              "  <svg xmlns=\"http://www.w3.org/2000/svg\" height=\"24px\"viewBox=\"0 0 24 24\"\n",
              "       width=\"24px\">\n",
              "    <path d=\"M0 0h24v24H0V0z\" fill=\"none\"/>\n",
              "    <path d=\"M18.56 5.44l.94 2.06.94-2.06 2.06-.94-2.06-.94-.94-2.06-.94 2.06-2.06.94zm-11 1L8.5 8.5l.94-2.06 2.06-.94-2.06-.94L8.5 2.5l-.94 2.06-2.06.94zm10 10l.94 2.06.94-2.06 2.06-.94-2.06-.94-.94-2.06-.94 2.06-2.06.94z\"/><path d=\"M17.41 7.96l-1.37-1.37c-.4-.4-.92-.59-1.43-.59-.52 0-1.04.2-1.43.59L10.3 9.45l-7.72 7.72c-.78.78-.78 2.05 0 2.83L4 21.41c.39.39.9.59 1.41.59.51 0 1.02-.2 1.41-.59l7.78-7.78 2.81-2.81c.8-.78.8-2.07 0-2.86zM5.41 20L4 18.59l7.72-7.72 1.47 1.35L5.41 20z\"/>\n",
              "  </svg>\n",
              "      </button>\n",
              "      \n",
              "  <style>\n",
              "    .colab-df-container {\n",
              "      display:flex;\n",
              "      flex-wrap:wrap;\n",
              "      gap: 12px;\n",
              "    }\n",
              "\n",
              "    .colab-df-convert {\n",
              "      background-color: #E8F0FE;\n",
              "      border: none;\n",
              "      border-radius: 50%;\n",
              "      cursor: pointer;\n",
              "      display: none;\n",
              "      fill: #1967D2;\n",
              "      height: 32px;\n",
              "      padding: 0 0 0 0;\n",
              "      width: 32px;\n",
              "    }\n",
              "\n",
              "    .colab-df-convert:hover {\n",
              "      background-color: #E2EBFA;\n",
              "      box-shadow: 0px 1px 2px rgba(60, 64, 67, 0.3), 0px 1px 3px 1px rgba(60, 64, 67, 0.15);\n",
              "      fill: #174EA6;\n",
              "    }\n",
              "\n",
              "    [theme=dark] .colab-df-convert {\n",
              "      background-color: #3B4455;\n",
              "      fill: #D2E3FC;\n",
              "    }\n",
              "\n",
              "    [theme=dark] .colab-df-convert:hover {\n",
              "      background-color: #434B5C;\n",
              "      box-shadow: 0px 1px 3px 1px rgba(0, 0, 0, 0.15);\n",
              "      filter: drop-shadow(0px 1px 2px rgba(0, 0, 0, 0.3));\n",
              "      fill: #FFFFFF;\n",
              "    }\n",
              "  </style>\n",
              "\n",
              "      <script>\n",
              "        const buttonEl =\n",
              "          document.querySelector('#df-1d7d9953-c22f-4602-8766-7275454186a2 button.colab-df-convert');\n",
              "        buttonEl.style.display =\n",
              "          google.colab.kernel.accessAllowed ? 'block' : 'none';\n",
              "\n",
              "        async function convertToInteractive(key) {\n",
              "          const element = document.querySelector('#df-1d7d9953-c22f-4602-8766-7275454186a2');\n",
              "          const dataTable =\n",
              "            await google.colab.kernel.invokeFunction('convertToInteractive',\n",
              "                                                     [key], {});\n",
              "          if (!dataTable) return;\n",
              "\n",
              "          const docLinkHtml = 'Like what you see? Visit the ' +\n",
              "            '<a target=\"_blank\" href=https://colab.research.google.com/notebooks/data_table.ipynb>data table notebook</a>'\n",
              "            + ' to learn more about interactive tables.';\n",
              "          element.innerHTML = '';\n",
              "          dataTable['output_type'] = 'display_data';\n",
              "          await google.colab.output.renderOutput(dataTable, element);\n",
              "          const docLink = document.createElement('div');\n",
              "          docLink.innerHTML = docLinkHtml;\n",
              "          element.appendChild(docLink);\n",
              "        }\n",
              "      </script>\n",
              "    </div>\n",
              "  </div>\n",
              "  "
            ],
            "text/plain": [
              "                      Filename\n",
              "0   OS_Durham_25_001_33_10.tif\n",
              "1  OS_Durham_25_001_33_11.tif \n",
              "2   OS_Durham_25_001_33_13.tif"
            ]
          },
          "metadata": {},
          "execution_count": 4
        }
      ],
      "source": [
        "df.head(3)"
      ]
    },
    {
      "cell_type": "code",
      "execution_count": 5,
      "metadata": {
        "id": "vZ-SjfbuUF5u",
        "outputId": "83390db4-b17e-4c08-e91e-6185940d57a3",
        "colab": {
          "base_uri": "https://localhost:8080/"
        }
      },
      "outputs": [
        {
          "output_type": "execute_result",
          "data": {
            "text/plain": [
              "16"
            ]
          },
          "metadata": {},
          "execution_count": 5
        }
      ],
      "source": [
        ""
      ]
    },
    {
      "cell_type": "code",
      "execution_count": 6,
      "metadata": {
        "id": "Z67i_9YbUF5u",
        "outputId": "544e689a-9297-4f50-ae8c-f7c3434e583f",
        "colab": {
          "base_uri": "https://localhost:8080/"
        }
      },
      "outputs": [
        {
          "output_type": "stream",
          "name": "stdout",
          "text": [
            "['OS_Durham_25_001_33_10.tif', '10']\n",
            "['OS_Durham_25_001_33_11.tif', '11 ']\n",
            "['OS_Durham_25_001_33_13.tif', '13']\n",
            "['OS_Durham_25_001_33_14.tif', '14']\n",
            "['OS_Durham_25_001_33_15.tif', '15']\n",
            "['OS_Durham_25_001_33_16.tif', '16']\n",
            "['OS_Durham_25_001_33_5.tif', '5']\n",
            "['OS_Durham_25_001_33_6.tif', '6']\n",
            "['OS_Durham_25_001_33_7.tif', '7']\n",
            "['OS_Durham_25_001_33_9.tif', '9']\n",
            "['OS_Durham_25_001_40_12.tif', '12']\n",
            "['OS_Durham_25_001_40_16.tif', '16']\n",
            "['OS_Durham_25_001_40_4.tif', '4']\n",
            "['OS_Durham_25_001_40_7.tif', '7']\n",
            "['OS_Durham_25_001_40_8.tif', '8']\n",
            "['OS_Durham_25_001_41_1.tif', '1']\n",
            "['OS_Durham_25_001_41_10.tif', '10']\n",
            "['OS_Durham_25_001_41_11.tif', '11']\n",
            "['OS_Durham_25_001_41_13.tif', '13']\n",
            "['OS_Durham_25_001_41_14.tif', '14']\n",
            "['OS_Durham_25_001_41_2.tif', '2']\n",
            "['OS_Durham_25_001_41_3.tif', '3']\n",
            "['OS_Durham_25_001_41_4.tif', '4']\n",
            "['OS_Durham_25_001_41_5.tif', '5']\n",
            "['OS_Durham_25_001_41_6.tif', '6']\n",
            "['OS_Durham_25_001_41_7.tif', '7']\n",
            "['OS_Durham_25_001_41_9.tif', '9']\n",
            "['OS_KENT_25_001_BUCKLAND_09_1865.tif', '09_1865']\n",
            "['OS_KENT_25_001_BUCKLAND_68_10.tif', '68_10']\n",
            "['OS_KENT_25_001_BUCKLAND_68_13.tif', '68_13']\n",
            "['OS_KENT_25_001_BUCKLAND_68_5.tif', '68_5']\n",
            "['OS_KENT_25_001_BUCKLAND_68_6.tif', '68_6']\n",
            "['OS_KENT_25_001_BUCKLAND_68_9.tif', '68_9']\n",
            "['OS_KENT_25_001_CRAYFORD_11_1865.tif', '11_1865']\n",
            "['OS_KENT_25_001_CRAYFORD_3_10.tif', '3_10']\n",
            "['OS_KENT_25_001_CRAYFORD_3_13.tif', '3_13']\n",
            "['OS_KENT_25_001_CRAYFORD_3_14.tif', '3_14']\n",
            "['OS_KENT_25_001_CRAYFORD_8_4.tif', '8_4']\n",
            "['OS_KENT_25_001_CRAYFORD_9_1.tif', '9_1']\n",
            "['OS_KENT_25_001_CRAYFORD_9_2.tif', '9_2']\n",
            "['OS_KENT_25_001_EAST_WICKHAM_07_1865.tif', '07_1865']\n",
            "['OS_KENT_25_001_EAST_WICKHAM_2_11.tif', '2_11']\n",
            "['OS_KENT_25_001_EAST_WICKHAM_2_15.tif', '2_15']\n",
            "['OS_KENT_25_001_GUSTON_10_1863.tif', '10_1863']\n",
            "['OS_KENT_25_001_GUSTON_68_11.tif', '68_11']\n",
            "['OS_KENT_25_001_GUSTON_68_14.tif', '68_14']\n",
            "['OS_KENT_25_001_GUSTON_68_2.tif', '68_2']\n",
            "['OS_KENT_25_001_GUSTON_68_6.tif', '68_6']\n",
            "['OS_KENT_25_001_LUDDESDOWN_07_1865.tif', '07_1865']\n",
            "['OS_KENT_25_001_LUDDESDOWN_18_11.tif', '18_11']\n",
            "['OS_KENT_25_001_LUDDESDOWN_18_12.tif', '18_12']\n",
            "['OS_KENT_25_001_LUDDESDOWN_18_15.tif', '18_15']\n",
            "['OS_KENT_25_001_LUDDESDOWN_18_7.tif', '18_7']\n",
            "['OS_KENT_25_001_LUDDESDOWN_18_8.tif', '18_8']\n",
            "['OS_KENT_25_001_LUDDESDOWN_30_3.tif', '30_3']\n",
            "['OS_KENT_25_001_LUDDESDOWN_30_7.tif', '30_7']\n",
            "['OS_KENT_25_001_NORTHFLEET_09_1865.tif', '09_1865']\n",
            "['OS_KENT_25_001_NORTHFLEET_10_1.tif', '10_1']\n",
            "['OS_KENT_25_001_NORTHFLEET_10_10.tif', '10_10']\n",
            "['OS_KENT_25_001_NORTHFLEET_10_14.tif', '10_14']\n",
            "['OS_KENT_25_001_NORTHFLEET_10_15.tif', '10_15']\n",
            "['OS_KENT_25_001_NORTHFLEET_10_5.tif', '10_5']\n",
            "['OS_KENT_25_001_NORTHFLEET_10_6.tif', '10_6']\n",
            "['OS_KENT_25_001_NORTHFLEET_10_9.tif', '10_9']\n",
            "['OS_KENT_25_001_NORTHFLEET_18_2.tif', '18_2']\n",
            "['OS_KENT_25_001_NORTHFLEET_18_3.tif', '18_3']\n",
            "['OS_KENT_25_001_SHORNE_05_1864.tif', '05_1864']\n",
            "['OS_KENT_25_001_SHORNE_10_12.tif', '10_12']\n",
            "['OS_KENT_25_001_SHORNE_10_15.tif', '10_15']\n",
            "['OS_KENT_25_001_SHORNE_10_16.tif', '10_16']\n",
            "['OS_KENT_25_001_SHORNE_10_8.tif', '10_8']\n",
            "['OS_KENT_25_001_SHORNE_11_13.tif', '11_13']\n",
            "['OS_KENT_25_001_SHORNE_11_5.tif', '11_5']\n",
            "['OS_KENT_25_001_SHORNE_11_9.tif', '11_9']\n",
            "['OS_KENT_25_001_SHORNE_18_4.tif', '18_4']\n",
            "['OS_KENT_25_001_SHORNE_19_1.tif', '19_1']\n",
            "['OS_KENT_25_001_STOKE_11_1864.tif', '11_1864']\n",
            "['OS_KENT_25_001_STOKE_12_1.tif', '12_1']\n",
            "['OS_KENT_25_001_STOKE_12_10.tif', '12_10']\n",
            "['OS_KENT_25_001_STOKE_12_11.tif', '12_11']\n",
            "['OS_KENT_25_001_STOKE_12_2.tif', '12_2']\n",
            "['OS_KENT_25_001_STOKE_12_3.tif', '12_3']\n",
            "['OS_KENT_25_001_STOKE_12_5.tif', '12_5']\n",
            "['OS_KENT_25_001_STOKE_12_6.tif', '12_6']\n",
            "['OS_KENT_25_001_STOKE_12_7.tif', '12_7']\n"
          ]
        }
      ],
      "source": [
        ""
      ]
    },
    {
      "cell_type": "code",
      "execution_count": 7,
      "metadata": {
        "id": "PvwSUPkyUF5v"
      },
      "outputs": [],
      "source": [
        ""
      ]
    },
    {
      "cell_type": "code",
      "execution_count": null,
      "metadata": {
        "id": "48_e9No2UF5v"
      },
      "outputs": [],
      "source": [
        ""
      ]
    }
  ],
  "metadata": {
    "kernelspec": {
      "display_name": "Python 3",
      "language": "python",
      "name": "python3"
    },
    "language_info": {
      "codemirror_mode": {
        "name": "ipython",
        "version": 3
      },
      "file_extension": ".py",
      "mimetype": "text/x-python",
      "name": "python",
      "nbconvert_exporter": "python",
      "pygments_lexer": "ipython3",
      "version": "3.7.3"
    },
    "colab": {
      "name": "TomHarper_HMD_Labels_from_Filenames.ipynb",
      "provenance": [],
      "include_colab_link": true
    }
  },
  "nbformat": 4,
  "nbformat_minor": 0
}